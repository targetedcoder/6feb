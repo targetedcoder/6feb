{
 "cells": [
  {
   "cell_type": "code",
   "execution_count": 30,
   "id": "4f58a4ba",
   "metadata": {},
   "outputs": [
    {
     "name": "stdout",
     "output_type": "stream",
     "text": [
      "[44, 55, 66, 34, 56, 78, 89, 34, 1, 2, 3, 1, 34, 55, 67, 78, 89, 4, 45, 22, 61, 34, 56]\n",
      "172279659957795228284743385088000\n"
     ]
    }
   ],
   "source": [
    "from functools import reduce\n",
    "list1=[1,2,3,4,[44,55,66,True],False,(34,56,78,89,34),{1,2,3,3,2,1},{1:34,\"key2\":[55,67,78,89],4:(45,22,61,34)},[56,'data science'],'Machine Learning']\n",
    "def flatening(list1):\n",
    "    new_l=[]\n",
    "    t_l=[]\n",
    "    for i in list1:\n",
    "        if(type(i)==list or type(i)==tuple or type(i)==set):\n",
    "            for j in i:\n",
    "                new_l.append(j)\n",
    "        if type(i)==dict:\n",
    "            t_l=list(i.items())\n",
    "            for j in t_l:\n",
    "                for k in j:\n",
    "                    if type(k)==list or type(k)==tuple or type(k)==set:\n",
    "                        for a in k:\n",
    "                            new_l.append(a)\n",
    "                    else:\n",
    "                        new_l.append(k)\n",
    "    final_l=[]\n",
    "    for i in new_l:\n",
    "        if type(i)==int:\n",
    "            final_l.append(i)\n",
    "        \n",
    "    print(final_l)\n",
    "    result=reduce(lambda x,y:x*y,final_l)\n",
    "    return result\n",
    "print(flatening(list1))"
   ]
  },
  {
   "cell_type": "code",
   "execution_count": 28,
   "id": "f6a4f18b",
   "metadata": {},
   "outputs": [
    {
     "name": "stdout",
     "output_type": "stream",
     "text": [
      "bhiklo kiop)\n",
      "ysrpol$prlk)\n"
     ]
    }
   ],
   "source": [
    "def encryption(string_inp):\n",
    "    d={'a':122,'b':121,'c':120,'d':119,'e':118,'f':117,'g':116,'h':115,'i':114,'j':113,'k':112,'l':111,'m':110,'n':109,'o':108,'p':107,'q':106,'r':105,'s':104,'t':103,'u':102,'v':101,'w':100,'x':99,'y':98,'z':97}\n",
    "    output=\"\"\n",
    "    for i in string_inp:\n",
    "        if i==\" \":\n",
    "            output=output+'$'\n",
    "        elif i.isalpha():   \n",
    "            output=output+chr(d[i])\n",
    "        else:\n",
    "            output=output+i\n",
    "    return output\n",
    "string_inp=input()\n",
    "print(encryption(string_inp))"
   ]
  },
  {
   "cell_type": "code",
   "execution_count": null,
   "id": "4f40c22c",
   "metadata": {},
   "outputs": [],
   "source": []
  }
 ],
 "metadata": {
  "kernelspec": {
   "display_name": "Python 3 (ipykernel)",
   "language": "python",
   "name": "python3"
  },
  "language_info": {
   "codemirror_mode": {
    "name": "ipython",
    "version": 3
   },
   "file_extension": ".py",
   "mimetype": "text/x-python",
   "name": "python",
   "nbconvert_exporter": "python",
   "pygments_lexer": "ipython3",
   "version": "3.9.13"
  }
 },
 "nbformat": 4,
 "nbformat_minor": 5
}
